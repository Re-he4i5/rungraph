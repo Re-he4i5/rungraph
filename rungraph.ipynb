!pip install bar-chart-race
!pip install japanize-matplotlib

import pandas as pd

from google.colab import drive
drive.mount('/content/drive')

df = pd.read_excel('/content/drive/MyDrive/programming/python/excel/bcr_rawdate.xlsx')
df

#df = pd.read_csv('/content/drive/MyDrive/Colab Notebooks/bcr_rawdate.csv')
#df

df=df.set_index('Date')
df

df=df.fillna(0)

import bar_chart_race as bcr
bcr.bar_chart_race(df)
